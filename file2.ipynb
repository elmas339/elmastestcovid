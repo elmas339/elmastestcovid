{
 "cells": [
  {
   "cell_type": "code",
   "id": "initial_id",
   "metadata": {
    "collapsed": true,
    "ExecuteTime": {
     "end_time": "2025-02-02T21:56:35.222354Z",
     "start_time": "2025-02-02T21:56:33.041222Z"
    }
   },
   "source": [
    "import pandas as pd\n",
    "import seaborn as sns\n",
    "import matplotlib.pyplot as plt\n",
    "import numpy as np\n",
    "\n",
    "data = pd.read_excel(r\"C:\\Users\\HP\\Downloads\\archive\\dataset.xlsx\")\n",
    "df1 = data.copy()\n",
    "df1 = pd.DataFrame(df1)\n",
    "missing_rate = df1.isna().sum() / df1.shape[0]\n",
    "missing_rate"
   ],
   "outputs": [
    {
     "data": {
      "text/plain": [
       "Patient ID                                               0.000000\n",
       "Patient age quantile                                     0.000000\n",
       "SARS-Cov-2 exam result                                   0.000000\n",
       "Patient addmited to regular ward (1=yes, 0=no)           0.000000\n",
       "Patient addmited to semi-intensive unit (1=yes, 0=no)    0.000000\n",
       "                                                           ...   \n",
       "HCO3 (arterial blood gas analysis)                       0.995216\n",
       "pO2 (arterial blood gas analysis)                        0.995216\n",
       "Arteiral Fio2                                            0.996456\n",
       "Phosphor                                                 0.996456\n",
       "ctO2 (arterial blood gas analysis)                       0.995216\n",
       "Length: 111, dtype: float64"
      ]
     },
     "execution_count": 3,
     "metadata": {},
     "output_type": "execute_result"
    }
   ],
   "execution_count": 3
  },
  {
   "metadata": {
    "ExecuteTime": {
     "end_time": "2025-02-02T21:56:41.353469Z",
     "start_time": "2025-02-02T21:56:41.345905Z"
    }
   },
   "cell_type": "code",
   "source": [
    "blood_columns = df1.columns[(missing_rate < 0.9) & (missing_rate > 0.8)].tolist()\n",
    "viral_columns = df1.columns[(missing_rate < 0.88) & (missing_rate > 0.75)].tolist()\n",
    "keys_columns = ['Patient age quantile', 'SARS-Cov-2 exam result']"
   ],
   "id": "2cb9e2086d2f6c0d",
   "outputs": [],
   "execution_count": 4
  },
  {
   "metadata": {
    "ExecuteTime": {
     "end_time": "2025-02-02T21:56:55.060190Z",
     "start_time": "2025-02-02T21:56:55.037533Z"
    }
   },
   "cell_type": "code",
   "source": [
    "# Vérification que toutes les colonnes existent dans df1\n",
    "all_columns = set(df1.columns)\n",
    "for col in keys_columns + blood_columns + viral_columns:\n",
    "    if col not in all_columns:\n",
    "        raise ValueError(f\"La colonne '{col}' n'existe pas dans df1.\")\n",
    "# Concaténation et filtrage\n",
    "selected_columns = keys_columns + blood_columns + viral_columns\n",
    "df1 = df1[selected_columns]\n",
    "df1.head()\n",
    "df1.shape"
   ],
   "id": "3f5da6be5bd7727a",
   "outputs": [
    {
     "data": {
      "text/plain": [
       "(5644, 41)"
      ]
     },
     "execution_count": 6,
     "metadata": {},
     "output_type": "execute_result"
    }
   ],
   "execution_count": 6
  },
  {
   "metadata": {
    "ExecuteTime": {
     "end_time": "2025-02-02T21:57:21.197037Z",
     "start_time": "2025-02-02T21:57:21.157970Z"
    }
   },
   "cell_type": "code",
   "source": [
    "from sklearn.model_selection import train_test_split\n",
    "\n",
    "trainset, testset = train_test_split(df1, test_size=0.2, random_state=0)\n",
    "trainset['SARS-Cov-2 exam result'].value_counts()\n",
    "testset['SARS-Cov-2 exam result'].value_counts()"
   ],
   "id": "21cca81213b51604",
   "outputs": [
    {
     "data": {
      "text/plain": [
       "SARS-Cov-2 exam result\n",
       "0    1018\n",
       "1     111\n",
       "Name: count, dtype: int64"
      ]
     },
     "execution_count": 7,
     "metadata": {},
     "output_type": "execute_result"
    }
   ],
   "execution_count": 7
  },
  {
   "metadata": {
    "ExecuteTime": {
     "end_time": "2025-02-02T23:08:54.075879Z",
     "start_time": "2025-02-02T23:08:54.070879Z"
    }
   },
   "cell_type": "code",
   "source": [
    "def encodage(df1):\n",
    "    code = {\n",
    "        'negative': 0,\n",
    "        'positive': 1,\n",
    "        'not_detected': 0,\n",
    "        'detected': 1\n",
    "    }\n",
    "    \n",
    "    # Appliquer le remplacement uniquement aux colonnes de type object\n",
    "    for col in df1.select_dtypes(include=\"object\"):\n",
    "        df1[col] = df1[col].replace(code)\n",
    "        \n",
    "    return df1"
   ],
   "id": "be98bd43addf6a53",
   "outputs": [],
   "execution_count": 64
  },
  {
   "metadata": {
    "ExecuteTime": {
     "end_time": "2025-02-02T23:10:25.883280Z",
     "start_time": "2025-02-02T23:10:25.879786Z"
    }
   },
   "cell_type": "code",
   "source": [
    " def imputation(df1): \n",
    "    df1 = df1.dropna(axis=0)\n",
    "    return df1"
   ],
   "id": "7b648936ea03d98",
   "outputs": [],
   "execution_count": 65
  },
  {
   "metadata": {
    "ExecuteTime": {
     "end_time": "2025-02-02T23:12:29.480191Z",
     "start_time": "2025-02-02T23:12:29.476905Z"
    }
   },
   "cell_type": "code",
   "source": [
    "def preprocessing(df1):\n",
    "    df1 = encodage(df1)\n",
    "    df1 = imputation(df1)\n",
    "    \n",
    "    x= df1.drop('SARS-Cov-2 exam result', axis=1)\n",
    "    y = df1['SARS-Cov-2 exam result']\n",
    "    print(y.value_counts())\n",
    "    return x, y "
   ],
   "id": "f20db7909974870",
   "outputs": [],
   "execution_count": 69
  },
  {
   "metadata": {
    "ExecuteTime": {
     "end_time": "2025-02-02T23:12:30.482323Z",
     "start_time": "2025-02-02T23:12:30.477042Z"
    }
   },
   "cell_type": "code",
   "source": "df1.dtypes.value_counts()",
   "id": "97895b2df0a16a9b",
   "outputs": [
    {
     "data": {
      "text/plain": [
       "float64    39\n",
       "int64       2\n",
       "Name: count, dtype: int64"
      ]
     },
     "execution_count": 70,
     "metadata": {},
     "output_type": "execute_result"
    }
   ],
   "execution_count": 70
  },
  {
   "metadata": {
    "ExecuteTime": {
     "end_time": "2025-02-02T23:13:32.382395Z",
     "start_time": "2025-02-02T23:13:32.375915Z"
    }
   },
   "cell_type": "code",
   "source": "x_train, y_train = preprocessing(trainset)",
   "id": "b9c05e554d0d5082",
   "outputs": [
    {
     "name": "stdout",
     "output_type": "stream",
     "text": [
      "SARS-Cov-2 exam result\n",
      "0    73\n",
      "1    10\n",
      "Name: count, dtype: int64\n"
     ]
    }
   ],
   "execution_count": 72
  },
  {
   "metadata": {
    "ExecuteTime": {
     "end_time": "2025-02-02T23:13:33.259540Z",
     "start_time": "2025-02-02T23:13:33.252652Z"
    }
   },
   "cell_type": "code",
   "source": "x_test, y_test = processing(testset) ",
   "id": "51a34dbb59f304d4",
   "outputs": [
    {
     "name": "stdout",
     "output_type": "stream",
     "text": [
      "SARS-Cov-2 exam result\n",
      "0    13\n",
      "1     3\n",
      "Name: count, dtype: int64\n"
     ]
    }
   ],
   "execution_count": 73
  },
  {
   "metadata": {},
   "cell_type": "markdown",
   "source": "modelisation ",
   "id": "1aa394f076b16c32"
  },
  {
   "metadata": {
    "ExecuteTime": {
     "end_time": "2025-02-02T23:18:35.429847Z",
     "start_time": "2025-02-02T23:18:35.156862Z"
    }
   },
   "cell_type": "code",
   "source": [
    "from sklearn.tree import DecisionTreeClassifier  # <-- Correction ici\n",
    "\n",
    "model = DecisionTreeClassifier(random_state=0)"
   ],
   "id": "65e619b9ec60d060",
   "outputs": [],
   "execution_count": 76
  },
  {
   "metadata": {
    "ExecuteTime": {
     "end_time": "2025-02-02T23:20:23.681123Z",
     "start_time": "2025-02-02T23:20:23.678517Z"
    }
   },
   "cell_type": "code",
   "source": [
    "from sklearn.metrics import f1_score,confusion_matrix,classification_report,accuracy_score\n",
    "from sklearn.model_selection import learning_curve\n"
   ],
   "id": "2b033f070fedf922",
   "outputs": [],
   "execution_count": 77
  },
  {
   "metadata": {
    "ExecuteTime": {
     "end_time": "2025-02-02T23:22:25.710102Z",
     "start_time": "2025-02-02T23:22:25.705674Z"
    }
   },
   "cell_type": "code",
   "source": [
    "def evaluation(model):\n",
    "    model.fit(x_train, y_train)\n",
    "    y_pred = model.predict(x_test)\n",
    "    print(confusion_matrix(y_test, y_pred))\n",
    "    print(classification_report(y_test, y_pred))\n",
    "    print(f1_score(y_test, y_pred))     "
   ],
   "id": "5c5c609449c48ce9",
   "outputs": [],
   "execution_count": 80
  },
  {
   "metadata": {
    "ExecuteTime": {
     "end_time": "2025-02-02T23:22:27.711253Z",
     "start_time": "2025-02-02T23:22:27.694945Z"
    }
   },
   "cell_type": "code",
   "source": "evaluation(model)",
   "id": "e261990cad4eb38b",
   "outputs": [
    {
     "name": "stdout",
     "output_type": "stream",
     "text": [
      "[[11  2]\n",
      " [ 1  2]]\n",
      "              precision    recall  f1-score   support\n",
      "\n",
      "           0       0.92      0.85      0.88        13\n",
      "           1       0.50      0.67      0.57         3\n",
      "\n",
      "    accuracy                           0.81        16\n",
      "   macro avg       0.71      0.76      0.73        16\n",
      "weighted avg       0.84      0.81      0.82        16\n",
      "\n",
      "0.5714285714285714\n"
     ]
    }
   ],
   "execution_count": 81
  },
  {
   "metadata": {},
   "cell_type": "code",
   "outputs": [],
   "execution_count": null,
   "source": "",
   "id": "715504fb2be536"
  }
 ],
 "metadata": {
  "kernelspec": {
   "display_name": "Python 3",
   "language": "python",
   "name": "python3"
  },
  "language_info": {
   "codemirror_mode": {
    "name": "ipython",
    "version": 2
   },
   "file_extension": ".py",
   "mimetype": "text/x-python",
   "name": "python",
   "nbconvert_exporter": "python",
   "pygments_lexer": "ipython2",
   "version": "2.7.6"
  }
 },
 "nbformat": 4,
 "nbformat_minor": 5
}
